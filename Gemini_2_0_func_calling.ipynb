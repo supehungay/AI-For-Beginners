{
  "nbformat": 4,
  "nbformat_minor": 0,
  "metadata": {
    "colab": {
      "provenance": [],
      "include_colab_link": true
    },
    "kernelspec": {
      "name": "python3",
      "display_name": "Python 3"
    },
    "language_info": {
      "name": "python"
    }
  },
  "cells": [
    {
      "cell_type": "markdown",
      "metadata": {
        "id": "view-in-github",
        "colab_type": "text"
      },
      "source": [
        "<a href=\"https://colab.research.google.com/github/supehungay/AI-For-Beginners/blob/main/Gemini_2_0_func_calling.ipynb\" target=\"_parent\"><img src=\"https://colab.research.google.com/assets/colab-badge.svg\" alt=\"Open In Colab\"/></a>"
      ]
    },
    {
      "cell_type": "markdown",
      "source": [
        "![](https://storage.googleapis.com/mle-courses-prod/users/61b6fa1ba83a7e37c8309756/private-files/01b97e90-b846-11ef-99fc-e9ac20f73f15-RAGGraph___Neo4J___CamelAI__8_.png)"
      ],
      "metadata": {
        "id": "ozLf-LiGPaO9"
      }
    },
    {
      "cell_type": "markdown",
      "source": [
        "Tác giả: [ProtonX Team](https://protonx.io/courses/674042a55b4afc001a04fa65)"
      ],
      "metadata": {
        "id": "9PS86wq_QIgy"
      }
    },
    {
      "cell_type": "markdown",
      "source": [
        "### Ý nghĩa và cách hoạt động của flow lựa chọn hàm:\n",
        "\n",
        "1. **Ý nghĩa:**\n",
        "   - Mô hình Gemini API sử dụng danh sách hàm được định nghĩa trước để phân tích câu hỏi của người dùng.\n",
        "   - Dựa vào mô tả và tham số của từng hàm, mô hình sẽ quyết định chọn hàm nào phù hợp nhất để trả lời.\n",
        "\n",
        "2. **Cách hoạt động:**\n",
        "   - Người dùng đặt câu hỏi (e.g., \"Thời tiết ở San Francisco ngày mai thế nào?\").\n",
        "   - Mô hình đối chiếu câu hỏi với danh sách hàm:\n",
        "     - Nếu câu hỏi liên quan đến thời tiết, mô hình chọn hàm `check_weather`.\n",
        "     - Nếu câu hỏi liên quan đến tìm nhà hàng, mô hình chọn hàm `find_restaurants`.\n",
        "   - Sau khi chọn hàm, mô hình trả về tên hàm và các tham số cần thiết để gọi API.\n",
        "\n",
        "Flow này đảm bảo mô hình luôn chọn đúng hàm dựa trên ngữ cảnh và yêu cầu của người dùng."
      ],
      "metadata": {
        "id": "ME5oJWdTPpr9"
      }
    },
    {
      "cell_type": "code",
      "execution_count": null,
      "metadata": {
        "id": "PBi7zFOxOZoz"
      },
      "outputs": [],
      "source": [
        "\"\"\"\n",
        "Install an additional SDK for JSON schema support Google AI Python SDK\n",
        "\n",
        "$ pip install google.ai.generativelanguage\n",
        "\"\"\"\n",
        "\n",
        "import os\n",
        "import google.generativeai as genai\n",
        "from google.ai.generativelanguage_v1beta.types import content\n",
        "from google.colab import userdata\n",
        "\n",
        "genai.configure(api_key=userdata.get(\"api_key\"))\n",
        "\n",
        "# Create the model\n",
        "generation_config = {\n",
        "  \"temperature\": 1,\n",
        "  \"top_p\": 0.95,\n",
        "  \"top_k\": 40,\n",
        "  \"max_output_tokens\": 8192,\n",
        "  \"response_mime_type\": \"text/plain\",\n",
        "}\n",
        "\n",
        "model = genai.GenerativeModel(\n",
        "  model_name=\"gemini-2.0-flash-exp\",\n",
        "  generation_config=generation_config,\n",
        "  system_instruction=\"You are a helpful assistant integrated with a real-time API. Use the functions provided to answer user queries accurately.\",\n",
        "  tools = [\n",
        "    genai.protos.Tool(\n",
        "      function_declarations = [\n",
        "        genai.protos.FunctionDeclaration(\n",
        "          name = \"check_weather\",\n",
        "          description = \"Provides the current weather and forecast for a specified location.\",\n",
        "          parameters = content.Schema(\n",
        "            type = content.Type.OBJECT,\n",
        "            enum = [],\n",
        "            required = [\"location\", \"date\"],\n",
        "            properties = {\n",
        "              \"location\": content.Schema(\n",
        "                type = content.Type.STRING,\n",
        "              ),\n",
        "              \"date\": content.Schema(\n",
        "                type = content.Type.STRING,\n",
        "              ),\n",
        "            },\n",
        "          ),\n",
        "        ),\n",
        "        genai.protos.FunctionDeclaration(\n",
        "          name = \"find_restaurants\",\n",
        "          description = \"Finds top-rated restaurants near a specified location.\",\n",
        "          parameters = content.Schema(\n",
        "            type = content.Type.OBJECT,\n",
        "            enum = [],\n",
        "            required = [\"location\", \"cuisine\"],\n",
        "            properties = {\n",
        "              \"location\": content.Schema(\n",
        "                type = content.Type.STRING,\n",
        "              ),\n",
        "              \"cuisine\": content.Schema(\n",
        "                type = content.Type.STRING,\n",
        "              ),\n",
        "              \"rating_threshold\": content.Schema(\n",
        "                type = content.Type.INTEGER,\n",
        "              ),\n",
        "            },\n",
        "          ),\n",
        "        ),\n",
        "      ],\n",
        "    ),\n",
        "  ],\n",
        "  tool_config={'function_calling_config':'ANY'},\n",
        ")\n",
        "\n",
        "chat_session = model.start_chat(\n",
        "  history=[\n",
        "    {\n",
        "      \"role\": \"user\",\n",
        "      \"parts\": [\n",
        "        \"You are a helpful assistant integrated with a real-time API. Use the functions provided to answer user queries accurately.\\n\\nUser query: \\\"What’s the weather in San Francisco tomorrow?\\\"\\n\\n\",\n",
        "      ],\n",
        "    },\n",
        "    {\n",
        "      \"role\": \"model\",\n",
        "      \"parts\": [\n",
        "        \"I need to know the exact date to look up the weather forecast. Could you provide the full date, including the year?\\n\",\n",
        "      ],\n",
        "    },\n",
        "    {\n",
        "      \"role\": \"user\",\n",
        "      \"parts\": [\n",
        "        \"What’s the weather in San Francisco tomorrow?\",\n",
        "      ],\n",
        "    },\n",
        "    {\n",
        "      \"role\": \"model\",\n",
        "      \"parts\": [\n",
        "        \"I need to know the exact date to look up the weather forecast. Could you provide the full date, including the year?\\n\",\n",
        "      ],\n",
        "    },\n",
        "    {\n",
        "      \"role\": \"user\",\n",
        "      \"parts\": [\n",
        "        \"What’s the weather in San Francisco 12/12/2024?\\n\",\n",
        "      ],\n",
        "    },\n",
        "    {\n",
        "      \"role\": \"model\",\n",
        "      \"parts\": [\n",
        "        \"```Function call\\n{\\n  \\\"name\\\": \\\"check_weather\\\",\\n  \\\"args\\\": {\\n    \\\"location\\\": \\\"San Francisco\\\",\\n    \\\"date\\\": \\\"12/12/2024\\\"\\n  }\\n}\\n```\",\n",
        "      ],\n",
        "    },\n",
        "  ]\n",
        ")\n",
        "\n"
      ]
    },
    {
      "cell_type": "markdown",
      "source": [
        "Kiểm tra hàm được gọi"
      ],
      "metadata": {
        "id": "WFkWzExPSKmO"
      }
    },
    {
      "cell_type": "code",
      "source": [
        "response = chat_session.send_message(\"INSERT_INPUT_HERE\")\n",
        "\n",
        "# Print out each of the function calls requested from this single call.\n",
        "# Note that the function calls are not executed. You need to manually execute the function calls.\n",
        "# For more see: https://github.com/google-gemini/cookbook/blob/main/quickstarts/Function_calling.ipynb\n",
        "for part in response.parts:\n",
        "  if fn := part.function_call:\n",
        "    args = \", \".join(f\"{key}={val}\" for key, val in fn.args.items())\n",
        "    print(f\"{fn.name}({args})\")"
      ],
      "metadata": {
        "colab": {
          "base_uri": "https://localhost:8080/",
          "height": 34
        },
        "id": "1zYymHL0OiEb",
        "outputId": "002e8b95-1bb4-4644-8659-eec6c3195f6e"
      },
      "execution_count": null,
      "outputs": [
        {
          "output_type": "stream",
          "name": "stdout",
          "text": [
            "check_weather(date=12/12/2024, location=San Francisco)\n"
          ]
        }
      ]
    },
    {
      "cell_type": "markdown",
      "source": [
        "Đồ thị của Agents"
      ],
      "metadata": {
        "id": "L0xCIVeNPJGl"
      }
    },
    {
      "cell_type": "code",
      "source": [
        "import matplotlib.pyplot as plt\n",
        "import networkx as nx\n",
        "\n",
        "# Define the function declarations\n",
        "functions = {\n",
        "    \"check_weather\": {\n",
        "        \"description\": \"Provides the current weather and forecast for a specified location.\",\n",
        "        \"parameters\": {\n",
        "            \"location\": \"The name of the city or region, e.g., 'San Francisco, CA'.\",\n",
        "            \"date\": \"The date for the forecast, in YYYY-MM-DD format.\"\n",
        "        }\n",
        "    },\n",
        "    \"find_restaurants\": {\n",
        "        \"description\": \"Finds top-rated restaurants near a specified location.\",\n",
        "        \"parameters\": {\n",
        "            \"location\": \"The name of the city or region, e.g., 'New York, NY'.\",\n",
        "            \"cuisine\": \"The type of cuisine to search for, e.g., 'Italian', 'Japanese'.\",\n",
        "            \"rating_threshold\": \"The minimum rating (out of 5) for a restaurant.\"\n",
        "        }\n",
        "    }\n",
        "}\n",
        "\n",
        "# Create a directed graph\n",
        "G = nx.DiGraph()\n",
        "\n",
        "# Add function nodes\n",
        "for func_name, func_details in functions.items():\n",
        "    G.add_node(func_name, description=func_details[\"description\"])\n",
        "\n",
        "    # Add parameter nodes and edges\n",
        "    for param, desc in func_details[\"parameters\"].items():\n",
        "        G.add_node(param, description=desc)\n",
        "        G.add_edge(func_name, param)\n",
        "\n",
        "# Plot the graph\n",
        "pos = nx.spring_layout(G, seed=42)\n",
        "plt.figure(figsize=(10, 6))\n",
        "\n",
        "# Draw nodes and labels\n",
        "nx.draw_networkx_nodes(G, pos, node_size=3000, node_color='lightblue')\n",
        "nx.draw_networkx_edges(G, pos, arrows=True)\n",
        "nx.draw_networkx_labels(G, pos, font_size=10, font_color='black')\n",
        "\n",
        "# Add descriptions as edge labels\n",
        "edge_labels = nx.get_edge_attributes(G, 'description')\n",
        "nx.draw_networkx_edge_labels(G, pos, edge_labels=edge_labels, font_size=8)\n",
        "\n",
        "plt.title(\"Function Declaration Graph\")\n",
        "plt.axis(\"off\")\n",
        "plt.show()\n"
      ],
      "metadata": {
        "colab": {
          "base_uri": "https://localhost:8080/",
          "height": 521
        },
        "id": "P9V_Rxj8PHVc",
        "outputId": "b7a35e3c-2922-48ee-a61c-02966dde6d33"
      },
      "execution_count": null,
      "outputs": [
        {
          "output_type": "display_data",
          "data": {
            "text/plain": [
              "<Figure size 1000x600 with 1 Axes>"
            ],
            "image/png": "[encoded data removed]"
          },
          "metadata": {}
        }
      ]
    },
    {
      "cell_type": "code",
      "source": [],
      "metadata": {
        "id": "-USWvxBtPHro"
      },
      "execution_count": null,
      "outputs": []
    }
  ]
}